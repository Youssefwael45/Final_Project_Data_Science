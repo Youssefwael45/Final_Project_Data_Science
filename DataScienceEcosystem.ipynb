{
 "cells": [
  {
   "cell_type": "markdown",
   "id": "ff372e87-5654-4b49-bb8e-fc736582f0e2",
   "metadata": {},
   "source": [
    "# Final Project: Data Science Tools and Techniques"
   ]
  },
  {
   "cell_type": "markdown",
   "id": "f9967640-93c8-48b4-aed6-054c31f8c90a",
   "metadata": {},
   "source": [
    "## this is introduction\n",
    "hello ibm and coursera lets see what is tools od data science"
   ]
  },
  {
   "cell_type": "markdown",
   "id": "daa95cf1-f05e-413d-90e0-14ac176a01b9",
   "metadata": {},
   "source": [
    "### data science languages\n",
    "- python\n",
    "- r\n",
    "- SQL\n",
    "- Julia\n",
    "- Scala"
   ]
  },
  {
   "cell_type": "markdown",
   "id": "cbbc0d92-bce5-48b9-b591-c40495752ef3",
   "metadata": {},
   "source": [
    "### data science libraries\n",
    "- Pandas\n",
    "- NumPy\n",
    "- Scikit-learn\n",
    "- TensorFlow\n",
    "- PyTorch\n",
    "- Matplotlib\n",
    "- Seaborn"
   ]
  },
  {
   "cell_type": "markdown",
   "id": "9a852ca7-bbf8-4a09-a48a-d5c50b180cb9",
   "metadata": {},
   "source": [
    "|data science tools|\n",
    "|---|\n",
    "|jupter lap|\n",
    "|R|\n",
    "|python|\n",
    "|anconnda navigator|\n",
    "|Apache Spark|"
   ]
  },
  {
   "cell_type": "markdown",
   "id": "b5ce1668-8e83-4050-8a2f-24f74ad77772",
   "metadata": {},
   "source": [
    "## Arithmetic Expression Examples\n",
    "Below are some examples of arithmetic expressions in Python."
   ]
  },
  {
   "cell_type": "code",
   "execution_count": 20,
   "id": "ba25e4fd-4e60-43c4-b9b0-d0af9c2c610d",
   "metadata": {},
   "outputs": [
    {
     "name": "stdout",
     "output_type": "stream",
     "text": [
      "The result of (3 * 4) + 5 is: 17\n"
     ]
    }
   ],
   "source": [
    "### Multiply and add numbers\n",
    "result = (3 * 4) + 5\n",
    "print(\"The result of (3 * 4) + 5 is:\", result)"
   ]
  },
  {
   "cell_type": "code",
   "execution_count": 22,
   "id": "41f4e7b0-992b-4cec-a1ba-0494e7375c26",
   "metadata": {},
   "outputs": [
    {
     "name": "stdout",
     "output_type": "stream",
     "text": [
      "converting 180 minutes to houres will be equal =  3.0\n"
     ]
    }
   ],
   "source": [
    "x = 180\n",
    "houres = x/60\n",
    "print(\"converting\", x , \"minutes to houres will be equal = \" , houres ) "
   ]
  },
  {
   "cell_type": "markdown",
   "id": "ad942272-6417-4592-84bb-22dc7ea39df2",
   "metadata": {},
   "source": [
    "## Objectives\n",
    "- List popular data science languages.\n",
    "- List commonly used data science libraries.\n",
    "- Create a table of data science tools.\n",
    "- Demonstrate basic arithmetic operations in Python.\n",
    "- Convert minutes to hours using Python."
   ]
  },
  {
   "cell_type": "markdown",
   "id": "9b8d6104-a65f-4fbc-b73b-7078a55a6773",
   "metadata": {},
   "source": [
    "## Author\n",
    "[youssef wael mahmoud]"
   ]
  },
  {
   "cell_type": "code",
   "execution_count": null,
   "id": "9d3cdee2-bca3-4ca7-abfe-c584f05caef2",
   "metadata": {},
   "outputs": [],
   "source": []
  }
 ],
 "metadata": {
  "kernelspec": {
   "display_name": "Python [conda env:base] *",
   "language": "python",
   "name": "conda-base-py"
  },
  "language_info": {
   "codemirror_mode": {
    "name": "ipython",
    "version": 3
   },
   "file_extension": ".py",
   "mimetype": "text/x-python",
   "name": "python",
   "nbconvert_exporter": "python",
   "pygments_lexer": "ipython3",
   "version": "3.12.7"
  }
 },
 "nbformat": 4,
 "nbformat_minor": 5
}
